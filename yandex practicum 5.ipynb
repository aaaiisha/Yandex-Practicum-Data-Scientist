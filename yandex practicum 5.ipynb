{
 "cells": [
  {
   "cell_type": "markdown",
   "metadata": {},
   "source": [
    "# Статистический анализ данных"
   ]
  },
  {
   "cell_type": "markdown",
   "metadata": {},
   "source": [
    "## Описательная статистика"
   ]
  },
  {
   "cell_type": "code",
   "execution_count": 1,
   "metadata": {},
   "outputs": [
    {
     "data": {
      "text/plain": [
       "<AxesSubplot:>"
      ]
     },
     "execution_count": 1,
     "metadata": {},
     "output_type": "execute_result"
    },
    {
     "data": {
      "image/png": "[encoded data removed]",
      "text/plain": [
       "<Figure size 432x288 with 1 Axes>"
      ]
     },
     "metadata": {
      "needs_background": "light"
     },
     "output_type": "display_data"
    }
   ],
   "source": [
    "#2.4\n",
    "import pandas as pd\n",
    "\n",
    "# назовем датасет pur_time от англ. purchase time, «время покупки»\n",
    "pur_time = pd.Series([36, 44, 73, 32, 44, 29, 63, 60, 55, 74, 61, 26, 76, 40, 39, 28, 69, 61, 54, 58, 47, 41, 70, 51, 58, 36, 71, 47, 74, 59, 50, 78, 59, 48, 67, 53, 67, 52, 38, 55, 53, 53, 43, 77, 44, 63, 63, 54])\n",
    "pur_time.hist(bins=[15, 35, 55, 75, 90],alpha=0.5)\n",
    "pur_time.hist(bins=[15, 45, 55, 90],alpha=0.5)"
   ]
  },
  {
   "cell_type": "code",
   "execution_count": 2,
   "metadata": {},
   "outputs": [
    {
     "name": "stdout",
     "output_type": "stream",
     "text": [
      "0.0\n"
     ]
    }
   ],
   "source": [
    "#2.7\n",
    "import pandas as pd\n",
    "data = pd.Series([0, 1, 2, 3, 4, 5, 6, 7, 8, 9, 10])\n",
    "mean_value = data.mean() # допишите ваш код здесь: найдите среднее значение в датасете\n",
    "spacing_all = data-mean_value  # допишите ваш код здесь: для каждого элемента датасета находим расстояние от среднего значения\n",
    "spacing_all_mean = spacing_all.mean()# допишите ваш код здесь: считаем среднее расстояние\n",
    "print(spacing_all_mean)"
   ]
  },
  {
   "cell_type": "code",
   "execution_count": 3,
   "metadata": {},
   "outputs": [
    {
     "name": "stdout",
     "output_type": "stream",
     "text": [
      "Время показа сообщения 4.5\n"
     ]
    }
   ],
   "source": [
    "# 2.9.1\n",
    "import numpy as np\n",
    "\n",
    "adv_mean = 3\n",
    "adv_var = 0.25\n",
    "adv_std = np.sqrt(adv_var) # рассчитайте стандартное отклонение\n",
    "adv_time = adv_mean + 3*adv_std # рассчитайте время показа пользователю всплывающего сообщения\n",
    "print('Время показа сообщения', adv_time)"
   ]
  },
  {
   "cell_type": "code",
   "execution_count": 4,
   "metadata": {},
   "outputs": [
    {
     "name": "stdout",
     "output_type": "stream",
     "text": [
      "11.0\n"
     ]
    }
   ],
   "source": [
    "# 2.9.2\n",
    "import pandas as pd\n",
    "import numpy as np\n",
    "\n",
    "data = pd.Series([0, 1, 2, 3, 4, 5, 6, 7, 8, 9, 10])\n",
    "variance_estimate =  np.var(data, ddof=1)# здесь посчитайте дисперсию\n",
    "print(variance_estimate)"
   ]
  },
  {
   "cell_type": "code",
   "execution_count": 5,
   "metadata": {},
   "outputs": [
    {
     "name": "stdout",
     "output_type": "stream",
     "text": [
      "3.3166247903554\n"
     ]
    }
   ],
   "source": [
    "# 2.9.3\n",
    "import pandas as pd\n",
    "import numpy as np\n",
    "\n",
    "data = pd.Series([0, 1, 2, 3, 4, 5, 6, 7, 8, 9, 10])\n",
    "standard_dev = np.std(data, ddof=1)\n",
    "print(standard_dev)"
   ]
  },
  {
   "cell_type": "code",
   "execution_count": 6,
   "metadata": {},
   "outputs": [
    {
     "name": "stdout",
     "output_type": "stream",
     "text": [
      "Время показа сообщения 4.5\n"
     ]
    }
   ],
   "source": [
    "#2.9.4\n",
    "import numpy as np\n",
    "\n",
    "adv_mean = 3\n",
    "adv_var = 0.25\n",
    "adv_std = np.sqrt(adv_var) # рассчитайте стандартное отклонение\n",
    "adv_time = adv_mean + 3*adv_std # рассчитайте время показа пользователю всплывающего сообщения\n",
    "print('Время показа сообщения', adv_time)"
   ]
  },
  {
   "cell_type": "markdown",
   "metadata": {},
   "source": [
    "## Теория вероятности"
   ]
  },
  {
   "cell_type": "code",
   "execution_count": 7,
   "metadata": {},
   "outputs": [
    {
     "name": "stdout",
     "output_type": "stream",
     "text": [
      "0.2 0.215 0.1921\n"
     ]
    }
   ],
   "source": [
    "#3.3\n",
    "import random\n",
    "random.seed(42) # метод, задающий степень случайности, не меняйте параметр 42\n",
    "def calculate_p(N):\n",
    "    cnt_21_40 = 0\n",
    "    for i in range(N):\n",
    "        random_integer = random.randint(1,100) # допишите ваш код здесь\n",
    "        if random_integer>=21 and random_integer<=40:\n",
    "            cnt_21_40 = cnt_21_40 + 1      \n",
    "    return(cnt_21_40/N)\n",
    "p_20 = calculate_p(20)\n",
    "p_400 = calculate_p(400)\n",
    "p_10000 = calculate_p(10000)\n",
    "print(p_20, p_400, p_10000)\n"
   ]
  },
  {
   "cell_type": "code",
   "execution_count": 8,
   "metadata": {},
   "outputs": [
    {
     "name": "stdout",
     "output_type": "stream",
     "text": [
      "{10: 0.027777777777777776, 11: 0.05555555555555555, 12: 0.08333333333333333, 13: 0.1111111111111111, 14: 0.1388888888888889, 15: 0.16666666666666666, 16: 0.1388888888888889, 17: 0.1111111111111111, 18: 0.08333333333333333, 19: 0.05555555555555555, 20: 0.027777777777777776}\n",
      "1\n"
     ]
    }
   ],
   "source": [
    "#3.5\n",
    "import numpy as np\n",
    "\n",
    "spot_matrix = np.array([[10, 11, 12, 13, 14, 15],\n",
    "       [11, 12, 13, 14, 15, 16],\n",
    "       [12, 13, 14, 15, 16, 17],\n",
    "       [13, 14, 15, 16, 17, 18],\n",
    "       [14, 15, 16, 17, 18, 19],\n",
    "       [15, 16, 17, 18, 19, 20]])\n",
    "\n",
    "spot_counts = {}\n",
    "\n",
    "#код цикла\n",
    "for i in range(0, 6):\n",
    "        for j in range(0, 6):\n",
    "                if spot_matrix[i][j] not in spot_counts.keys():\n",
    "                        spot_counts[spot_matrix[i][j]] = 1\n",
    "                else:\n",
    "                        spot_counts[spot_matrix[i][j]] += 1\n",
    "\n",
    "spot_probs = {k:spot_counts[k]/36 for k in spot_counts}\n",
    " \n",
    "\n",
    "sum_probs_one = int(sum(spot_probs.values()))\n",
    "print(spot_probs)\n",
    "print(sum_probs_one)"
   ]
  },
  {
   "cell_type": "code",
   "execution_count": 9,
   "metadata": {},
   "outputs": [
    {
     "name": "stdout",
     "output_type": "stream",
     "text": [
      "Математическое ожидание равно 3.25\n",
      "Дисперсия равна 1.1875\n"
     ]
    }
   ],
   "source": [
    "#3.6.2\n",
    "import numpy as np\n",
    "# Вероятность того, что отдельно взятый питон окажется одним из 12 знаков Зодиака, равна 1/12.\n",
    "# Вероятность того, что он принадлежит к одной из 4 стихий, равна 1/4.\n",
    "# Вероятности для двух стихий - Огня и Земли - нужно сложить, чтобы получить вероятность\n",
    "# того, что питон весит 3 кг, для остальных просто остается 1/4.\n",
    "\n",
    "weight_probs = {\n",
    "        '2': 0.25,\n",
    "        '3': 0.5,\n",
    "        '5': 0.25\n",
    "        }\n",
    "expectation = sum([int(x_i)*weight_probs[x_i] for x_i in weight_probs])\n",
    "square_of_expectation = expectation ** 2\n",
    "expectation_of_squares = sum([int(x_i)*int(x_i)*weight_probs[x_i] for x_i in weight_probs])\n",
    "variance = expectation_of_squares - square_of_expectation\n",
    "print('Математическое ожидание равно', expectation)\n",
    "print('Дисперсия равна', variance)"
   ]
  },
  {
   "cell_type": "code",
   "execution_count": 10,
   "metadata": {},
   "outputs": [
    {
     "name": "stdout",
     "output_type": "stream",
     "text": [
      "Математическое ожидание равно 5.5\n",
      "Дисперсия равна 55.349999999999994\n"
     ]
    }
   ],
   "source": [
    "#3.6.1\n",
    "import numpy as np\n",
    "x_probs = {\n",
    "    '-4': 0.05,\n",
    "    '-2': 0.25,\n",
    "    '0' : 0.1,\n",
    "    '1' : 0.1,\n",
    "    '5' : 0.1,\n",
    "    '7' : 0.05,\n",
    "    '15': 0.35    \n",
    "}\n",
    "expectation = sum([int(x_i)*x_probs[x_i] for x_i in x_probs])\n",
    "square_of_expectation = expectation ** 2\n",
    "expectation_of_squares = sum([int(x_i)*int(x_i)*x_probs[x_i] for x_i in x_probs])\n",
    "variance = expectation_of_squares - square_of_expectation\n",
    "print('Математическое ожидание равно', expectation)\n",
    "print('Дисперсия равна', variance)"
   ]
  },
  {
   "cell_type": "code",
   "execution_count": 11,
   "metadata": {},
   "outputs": [
    {
     "data": {
      "text/plain": [
       "<BarContainer object of 61 artists>"
      ]
     },
     "execution_count": 11,
     "metadata": {},
     "output_type": "execute_result"
    },
    {
     "data": {
      "image/png": "[encoded data removed]",
      "text/plain": [
       "<Figure size 432x288 with 1 Axes>"
      ]
     },
     "metadata": {
      "needs_background": "light"
     },
     "output_type": "display_data"
    }
   ],
   "source": [
    "#3.8\n",
    "from matplotlib import pyplot as plt\n",
    "from math import factorial\n",
    "\n",
    "p =  0.2 # вставьте ваш код сюда: какова вероятность заключить контракт?\n",
    "n =  60  # вставьте ваш код сюда: со сколькими компаниями начинаем переговоры?\n",
    "\n",
    "distr = [] # вставьте ваш код сюда: создайте переменную, в которой будете хранить значения распределения\n",
    "\n",
    "for k in range(0,n+1):\n",
    "        choose = factorial(n)/(factorial(k) * factorial(n-k))\n",
    "        prob = choose * p**k * (1-p)**(n-k) \n",
    "        distr.append(prob)\n",
    "plt.bar(range(0,n+1), distr) \n",
    "    \n",
    "# вставьте ваш код сюда: постройте гистограмму распределения вероятностей"
   ]
  },
  {
   "cell_type": "code",
   "execution_count": 12,
   "metadata": {},
   "outputs": [
    {
     "name": "stdout",
     "output_type": "stream",
     "text": [
      "Максимальная стоимость доставки курьером: 1092.0816399686269\n"
     ]
    }
   ],
   "source": [
    "#3.9\n",
    "from scipy import stats as st\n",
    "\n",
    "distr = st.norm(2400, 320) \n",
    "\n",
    "mu = 2400 # вставьте ваш код здесь: чему равно среднее значение распределения\n",
    "sigma = 320 # вставьте ваш код здесь: чему равно стандартное отклонение распределения\n",
    "threshold = 3/4 # вставьте ваш код здесь: какая доля заказов должна быть дороже двух стоимостей доставки?\n",
    "\n",
    "max_delivery_price = (st.norm(mu, sigma).ppf(1-threshold))/2 # вставьте ваш код здесь: какую стоимость доставки установить?\n",
    "\n",
    "print('Максимальная стоимость доставки курьером:', max_delivery_price)"
   ]
  },
  {
   "cell_type": "code",
   "execution_count": 13,
   "metadata": {},
   "outputs": [
    {
     "name": "stdout",
     "output_type": "stream",
     "text": [
      "0.9964477890716447\n"
     ]
    }
   ],
   "source": [
    "#3.10\n",
    "from scipy import stats as st\n",
    "import math as mt\n",
    "\n",
    "binom_n = 23000 # ваш код здесь - целевое количество человек в рассылке\n",
    "binom_p = 0.4 # ваш код здесь - сколько пользователей открывают рассылку?\n",
    "\n",
    "threshold = 9000 # ваш код здесь - на какой охват сейчас рассчитывают?\n",
    "\n",
    "mu = binom_n * binom_p # ваш код здесь: чему равно среднее значение распределения\n",
    "sigma = mt.sqrt(binom_n * binom_p * (1 - binom_p)) # ваш код здесь: чему равно стандартное отклонение распределения\n",
    "\n",
    "p_threshold = 1-st.norm(mu,sigma).cdf(threshold)  # ваш код здесь\n",
    "print(p_threshold)"
   ]
  },
  {
   "cell_type": "markdown",
   "metadata": {},
   "source": [
    "## Проверка гипотез"
   ]
  },
  {
   "cell_type": "code",
   "execution_count": 14,
   "metadata": {},
   "outputs": [
    {
     "name": "stdout",
     "output_type": "stream",
     "text": [
      "p-значение:  0.00033528259973700724\n",
      "Отвергаем нулевую гипотезу\n"
     ]
    }
   ],
   "source": [
    "#4.3\n",
    "from scipy import stats as st\n",
    "import pandas as pd\n",
    "\n",
    "scooters = pd.Series([15, 31, 10, 21, 21, 32, 30, 25, 21,\n",
    "28, 25, 32, 38, 18, 33, 24, 26, 40, 24, 37, 20, 36, 28, 38,\n",
    "24, 35, 33, 21, 29, 26, 13, 25, 34, 38, 23, 37, 31, 28, 32,\n",
    "24, 25, 13, 38, 34, 48, 19, 20, 22, 38, 28, 31, 18, 21, 24,\n",
    "31, 21, 28, 29, 33, 40, 26, 33, 33,  6, 27, 24, 17, 28,  7,\n",
    "33, 25, 25, 29, 19, 30, 29, 22, 15, 28, 36, 25, 36, 25, 29,\n",
    "33, 19, 32, 32, 28, 26, 18, 48, 15, 27, 27, 27,  0, 28, 39,\n",
    "27, 25, 39, 28, 22, 33, 30, 35, 19, 20, 18, 31, 44, 20, 18,\n",
    "17, 28, 17, 44, 40, 33,])\n",
    "\n",
    "optimal_value = 30 # введите ваш код тут\n",
    "\n",
    "alpha = .05 # введите ваш код тут\n",
    "\n",
    "results = results = st.ttest_1samp(\n",
    "    scooters, \n",
    "    optimal_value)# введите ваш код тут\n",
    "\n",
    "print('p-значение: ', results.pvalue)\n",
    "\n",
    "if (results.pvalue < alpha):\n",
    "    print(\"Отвергаем нулевую гипотезу\")\n",
    "else:\n",
    "    print(\"Не получилось отвергнуть нулевую гипотезу\")"
   ]
  },
  {
   "cell_type": "code",
   "execution_count": 15,
   "metadata": {},
   "outputs": [
    {
     "name": "stdout",
     "output_type": "stream",
     "text": [
      "p-значение: 1.7064149395302838e-22\n",
      "Отвергаем нулевую гипотезу\n"
     ]
    }
   ],
   "source": [
    "#4.4\n",
    "from scipy import stats as st\n",
    "import numpy as np\n",
    "import pandas as pd\n",
    "\n",
    "revenue = pd.Series([45407, 42345, 42842, 41805, 41315, 44078, 43833, 44803, \n",
    "                     40965,40199, 41251, 44305, 43810, 42538, 44724, 40913, \n",
    "                     44734, 43418, 42780, 42971, 41797,40433, 45054, 42568, \n",
    "                     42114, 40035, 43977, 44807, 40995, 45335, 42726, 41595])\n",
    "\n",
    "interested_value = 50000 # сколько обещал Роби Тоббинсон?\n",
    "\n",
    "alpha = .05 # укажите критический уровень статистической значимости\n",
    "\n",
    "results = st.ttest_1samp(\n",
    "    revenue, \n",
    "    interested_value) # используйте метод st.ttest_1samp\n",
    "\n",
    "print('p-значение:', results.pvalue / 2)\n",
    "\n",
    "if ( results.pvalue / 2 < alpha) and (revenue.mean() < interested_value ): # сравните полученный и критический уровни значимости \n",
    "    # и среднюю дневную выручку с обещанной):\n",
    "    print(\"Отвергаем нулевую гипотезу\")\n",
    "else:\n",
    "    print(\"Не получилось отвергнуть нулевую гипотезу\")"
   ]
  },
  {
   "cell_type": "code",
   "execution_count": 16,
   "metadata": {},
   "outputs": [
    {
     "name": "stdout",
     "output_type": "stream",
     "text": [
      "p-значение: 0.002042828065164986\n",
      "Отвергаем нулевую гипотезу\n"
     ]
    }
   ],
   "source": [
    "#4.5\n",
    "from scipy import stats as st\n",
    "import numpy as np\n",
    "\n",
    "pages_per_session_autumn = [7.1, 7.3, 9.8, 7.3, 6.4, 10.5, 8.7, \n",
    "                            17.5, 3.3, 15.5, 16.2, 0.4, 8.3, \n",
    "                            8.1, 3.0, 6.1, 4.4, 18.8, 14.7, 16.4, \n",
    "                            13.6, 4.4, 7.4, 12.4, 3.9, 13.6, \n",
    "                            8.8, 8.1, 13.6, 12.2]\n",
    "pages_per_session_summer = [12.1, 24.3, 6.4, 19.9, 19.7, 12.5, 17.6, \n",
    "                            5.0, 22.4, 13.5, 10.8, 23.4, 9.4, 3.7, \n",
    "                            2.5, 19.8, 4.8, 29.0, 1.7, 28.6, 16.7, \n",
    "                            14.2, 10.6, 18.2, 14.7, 23.8, 15.9, 16.2, \n",
    "                            12.1, 14.5]\n",
    "\n",
    "alpha = 0.05 # ваш код: задайте критический уровень статистической значимости\n",
    "\n",
    "results =st.ttest_ind(\n",
    "    pages_per_session_autumn, \n",
    "    pages_per_session_summer) # ваш код: проверьте гипотезу о равенстве средних двух независимых совокупностей\n",
    "\n",
    "print('p-значение:',results.pvalue)\n",
    "\n",
    "if (results.pvalue < alpha):\n",
    "    print(\"Отвергаем нулевую гипотезу\")\n",
    "else:\n",
    "    print(\"Не получилось отвергнуть нулевую гипотезу\")"
   ]
  },
  {
   "cell_type": "code",
   "execution_count": 17,
   "metadata": {},
   "outputs": [
    {
     "name": "stdout",
     "output_type": "stream",
     "text": [
      "cреднее до:  591.7333333333333\n",
      "cреднее после:  932.0666666666667\n",
      "p-значение: 0.010789503820811123\n",
      "Отвергаем нулевую гипотезу\n"
     ]
    }
   ],
   "source": [
    "#4.6\n",
    "from scipy import stats as st\n",
    "import numpy as np\n",
    "import pandas as pd\n",
    "\n",
    "bullets_before = [821, 1164, 598, 854, 455, 1220, 161, 1400, 479, 215, \n",
    "          564, 159, 920, 173, 276, 444, 273, 711, 291, 880, \n",
    "          892, 712, 16, 476, 498, 9, 1251, 938, 389, 513]\n",
    "\n",
    "bullets_after = [904, 220, 676, 459, 299, 659, 1698, 1120, 514, 1086, 1499, \n",
    "         1262, 829, 476, 1149, 996, 1247, 1117, 1324, 532, 1458, 898, \n",
    "         1837, 455, 1667, 898, 474, 558, 639, 1012]\n",
    "\n",
    "print('cреднее до: ',pd.Series(bullets_before).mean())\n",
    "print('cреднее после: ',pd.Series(bullets_after).mean())\n",
    "\n",
    "alpha = .05 # ваш код: задайте критический уровень статистической значимости\n",
    "\n",
    "results = st.ttest_rel(\n",
    "    bullets_before, \n",
    "    bullets_after) # ваш код: проведите тест и посчитайте p-значение\n",
    "\n",
    "print('p-значение:', results.pvalue)\n",
    "\n",
    "if (results.pvalue < alpha):\n",
    "    print(\"Отвергаем нулевую гипотезу\")\n",
    "else:\n",
    "    print(\"Не получилось отвергнуть нулевую гипотезу\")"
   ]
  },
  {
   "cell_type": "code",
   "execution_count": null,
   "metadata": {},
   "outputs": [],
   "source": []
  }
 ],
 "metadata": {
  "kernelspec": {
   "display_name": "Python 3",
   "language": "python",
   "name": "python3"
  },
  "language_info": {
   "codemirror_mode": {
    "name": "ipython",
    "version": 3
   },
   "file_extension": ".py",
   "mimetype": "text/x-python",
   "name": "python",
   "nbconvert_exporter": "python",
   "pygments_lexer": "ipython3",
   "version": "3.7.9"
  }
 },
 "nbformat": 4,
 "nbformat_minor": 4
}
